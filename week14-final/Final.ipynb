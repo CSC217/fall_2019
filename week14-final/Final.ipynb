{
 "cells": [
  {
   "cell_type": "code",
   "execution_count": 1,
   "metadata": {},
   "outputs": [],
   "source": [
    "import pandas as pd\n",
    "import matplotlib.pyplot as plt\n",
    "from datetime import datetime, timedelta\n",
    "import numpy as np\n",
    "import scipy.stats as stats\n",
    "import os\n",
    "import sys\n",
    "import seaborn as sns\n",
    "sys.path.append(os.path.abspath(os.path.join(os.getcwd(), '../utils')))\n",
    "import _utils as utils\n",
    "%matplotlib inline"
   ]
  },
  {
   "cell_type": "markdown",
   "metadata": {},
   "source": [
    "## CSC 217 - Fall 2019 Final\n",
    "\n",
    "# YOU PROBABLY WANT TO SKIM THIS SECTION AND START THE TEST IMMEDIATELY BECAUSE YOU LOVE STATS SO MUCH. WHILE I UNDERSTAND YOUR ENTHUSIASM, I SUGGEST YOU TAKE TEN MINUTES TO READ THIS SECTION, UNDERSTAND THE DATA, AND READ THIS SECTION AGAIN.\n",
    "\n",
    "For your final exam you will be looking at two closely related datasets, each pulled from the website *FiveThirtyEight*. Both contain polling data for the upcoming Democratic primary election. The first contains polling data from the state of Iowa, while the second contains polling data from the state of New Hampshire.\n",
    "\n",
    "In each poll a random set of people are asked - if the Democratic primary were today, would you vote for this candidate? The responses are the percentage of people asked who would vote for the four candidates listed - Joe Biden, Pete Buttigieg, Bernie Sanders and Elizabeth Warren.\n",
    "\n",
    "Both datasets have the same column structure. In each dataset, every row represents an individual poll from a certain point in time (sometime between the beginning of this year and now).\n",
    "\n",
    "Column structure:  \n",
    "\n",
    "**date**: the date that poll was taken  \n",
    "**days**: the number of days between January 1st and the date of that poll. For instance, if a poll was taken on February 2, 2019, the 'days' column will contain the number '32', meaning that there is a 32 day difference between January 1, 2019 and Feburary 2, 2019.  \n",
    "**state**: the state that poll was taken in  \n",
    "**Biden**: the percentage of people polled who said that they would vote for Joe Biden in the Democratic primary  \n",
    "**Buttigieg**: the percentage of people polled who said that they would vote for Pete Buttigieg in the Democratic primary  \n",
    "**Sanders**: the percentage of people polled who said that they would vote for Bernie Sanders in the Democratic primary  \n",
    "**Warren**: the percentage of people polled who said that they would vote for Elizabeth Warren in the Democratic primary  \n",
    "\n",
    "The data DOES NOT need to be cleaned beyond what has been provided.\n",
    "\n",
    "**Please note** that any questions that reference \"all of the candidates\" means that you should be looking at the four candidates in the dataset: Biden, Buttigieg, Sanders and Warren.\n",
    "\n",
    "Please write out your answer as well as any necessary code required for each question. Note that you may use the utils package, as it's imported above.\n",
    "\n",
    "There are 15 total questions and a bonus question. There are 70 possible points - the maximum score possible is 75/70 after the bonus question. Partial credit may be awarded on questions under my discretion.\n",
    "\n",
    "The exam is due to me (via email - eagovino@ccny.cuny.edu) by **9 PM**. Late submissions will not be accepted.\n",
    "\n",
    "Good luck and please reach out to me via email or Slack (preferably Slack) with questions."
   ]
  },
  {
   "cell_type": "code",
   "execution_count": 2,
   "metadata": {},
   "outputs": [],
   "source": [
    "iowa = pd.read_csv('data/iowa.csv')\n",
    "new_hampshire = pd.read_csv('data/new_hampshire.csv')"
   ]
  },
  {
   "cell_type": "code",
   "execution_count": 3,
   "metadata": {},
   "outputs": [
    {
     "data": {
      "text/html": [
       "<div>\n",
       "<style scoped>\n",
       "    .dataframe tbody tr th:only-of-type {\n",
       "        vertical-align: middle;\n",
       "    }\n",
       "\n",
       "    .dataframe tbody tr th {\n",
       "        vertical-align: top;\n",
       "    }\n",
       "\n",
       "    .dataframe thead th {\n",
       "        text-align: right;\n",
       "    }\n",
       "</style>\n",
       "<table border=\"1\" class=\"dataframe\">\n",
       "  <thead>\n",
       "    <tr style=\"text-align: right;\">\n",
       "      <th></th>\n",
       "      <th>date</th>\n",
       "      <th>days</th>\n",
       "      <th>state</th>\n",
       "      <th>Biden</th>\n",
       "      <th>Buttigieg</th>\n",
       "      <th>Sanders</th>\n",
       "      <th>Warren</th>\n",
       "    </tr>\n",
       "  </thead>\n",
       "  <tbody>\n",
       "    <tr>\n",
       "      <th>0</th>\n",
       "      <td>2019-02-02</td>\n",
       "      <td>32</td>\n",
       "      <td>Iowa</td>\n",
       "      <td>29.20</td>\n",
       "      <td>0.0</td>\n",
       "      <td>14.80</td>\n",
       "      <td>10.6</td>\n",
       "    </tr>\n",
       "    <tr>\n",
       "      <th>1</th>\n",
       "      <td>2019-02-07</td>\n",
       "      <td>37</td>\n",
       "      <td>Iowa</td>\n",
       "      <td>25.39</td>\n",
       "      <td>11.4</td>\n",
       "      <td>10.38</td>\n",
       "      <td>10.5</td>\n",
       "    </tr>\n",
       "    <tr>\n",
       "      <th>2</th>\n",
       "      <td>2019-03-09</td>\n",
       "      <td>67</td>\n",
       "      <td>Iowa</td>\n",
       "      <td>27.00</td>\n",
       "      <td>1.0</td>\n",
       "      <td>25.00</td>\n",
       "      <td>9.0</td>\n",
       "    </tr>\n",
       "    <tr>\n",
       "      <th>3</th>\n",
       "      <td>2019-03-20</td>\n",
       "      <td>78</td>\n",
       "      <td>Iowa</td>\n",
       "      <td>29.00</td>\n",
       "      <td>11.4</td>\n",
       "      <td>15.00</td>\n",
       "      <td>8.0</td>\n",
       "    </tr>\n",
       "    <tr>\n",
       "      <th>4</th>\n",
       "      <td>2019-03-24</td>\n",
       "      <td>82</td>\n",
       "      <td>Iowa</td>\n",
       "      <td>25.30</td>\n",
       "      <td>11.4</td>\n",
       "      <td>24.10</td>\n",
       "      <td>8.5</td>\n",
       "    </tr>\n",
       "  </tbody>\n",
       "</table>\n",
       "</div>"
      ],
      "text/plain": [
       "         date  days state  Biden  Buttigieg  Sanders  Warren\n",
       "0  2019-02-02    32  Iowa  29.20        0.0    14.80    10.6\n",
       "1  2019-02-07    37  Iowa  25.39       11.4    10.38    10.5\n",
       "2  2019-03-09    67  Iowa  27.00        1.0    25.00     9.0\n",
       "3  2019-03-20    78  Iowa  29.00       11.4    15.00     8.0\n",
       "4  2019-03-24    82  Iowa  25.30       11.4    24.10     8.5"
      ]
     },
     "execution_count": 3,
     "metadata": {},
     "output_type": "execute_result"
    }
   ],
   "source": [
    "iowa.head()"
   ]
  },
  {
   "cell_type": "code",
   "execution_count": 4,
   "metadata": {},
   "outputs": [
    {
     "data": {
      "text/html": [
       "<div>\n",
       "<style scoped>\n",
       "    .dataframe tbody tr th:only-of-type {\n",
       "        vertical-align: middle;\n",
       "    }\n",
       "\n",
       "    .dataframe tbody tr th {\n",
       "        vertical-align: top;\n",
       "    }\n",
       "\n",
       "    .dataframe thead th {\n",
       "        text-align: right;\n",
       "    }\n",
       "</style>\n",
       "<table border=\"1\" class=\"dataframe\">\n",
       "  <thead>\n",
       "    <tr style=\"text-align: right;\">\n",
       "      <th></th>\n",
       "      <th>date</th>\n",
       "      <th>days</th>\n",
       "      <th>state</th>\n",
       "      <th>Biden</th>\n",
       "      <th>Buttigieg</th>\n",
       "      <th>Sanders</th>\n",
       "      <th>Warren</th>\n",
       "    </tr>\n",
       "  </thead>\n",
       "  <tbody>\n",
       "    <tr>\n",
       "      <th>0</th>\n",
       "      <td>2019-01-06</td>\n",
       "      <td>5</td>\n",
       "      <td>New Hampshire</td>\n",
       "      <td>24.00</td>\n",
       "      <td>11.4</td>\n",
       "      <td>26.00</td>\n",
       "      <td>11.00</td>\n",
       "    </tr>\n",
       "    <tr>\n",
       "      <th>1</th>\n",
       "      <td>2019-01-28</td>\n",
       "      <td>27</td>\n",
       "      <td>New Hampshire</td>\n",
       "      <td>22.00</td>\n",
       "      <td>11.4</td>\n",
       "      <td>17.00</td>\n",
       "      <td>17.00</td>\n",
       "    </tr>\n",
       "    <tr>\n",
       "      <th>2</th>\n",
       "      <td>2019-02-07</td>\n",
       "      <td>37</td>\n",
       "      <td>New Hampshire</td>\n",
       "      <td>21.94</td>\n",
       "      <td>11.4</td>\n",
       "      <td>12.85</td>\n",
       "      <td>8.67</td>\n",
       "    </tr>\n",
       "    <tr>\n",
       "      <th>3</th>\n",
       "      <td>2019-02-20</td>\n",
       "      <td>50</td>\n",
       "      <td>New Hampshire</td>\n",
       "      <td>28.00</td>\n",
       "      <td>11.4</td>\n",
       "      <td>20.00</td>\n",
       "      <td>9.00</td>\n",
       "    </tr>\n",
       "    <tr>\n",
       "      <th>4</th>\n",
       "      <td>2019-02-23</td>\n",
       "      <td>53</td>\n",
       "      <td>New Hampshire</td>\n",
       "      <td>25.00</td>\n",
       "      <td>0.7</td>\n",
       "      <td>26.80</td>\n",
       "      <td>8.70</td>\n",
       "    </tr>\n",
       "  </tbody>\n",
       "</table>\n",
       "</div>"
      ],
      "text/plain": [
       "         date  days          state  Biden  Buttigieg  Sanders  Warren\n",
       "0  2019-01-06     5  New Hampshire  24.00       11.4    26.00   11.00\n",
       "1  2019-01-28    27  New Hampshire  22.00       11.4    17.00   17.00\n",
       "2  2019-02-07    37  New Hampshire  21.94       11.4    12.85    8.67\n",
       "3  2019-02-20    50  New Hampshire  28.00       11.4    20.00    9.00\n",
       "4  2019-02-23    53  New Hampshire  25.00        0.7    26.80    8.70"
      ]
     },
     "execution_count": 4,
     "metadata": {},
     "output_type": "execute_result"
    }
   ],
   "source": [
    "new_hampshire.head()"
   ]
  },
  {
   "cell_type": "markdown",
   "metadata": {},
   "source": [
    "1. How many polls are in each dataset? (3 points)"
   ]
  },
  {
   "cell_type": "markdown",
   "metadata": {},
   "source": [
    "2. Which candidate has the highest mean polling results in Iowa? (3 points)"
   ]
  },
  {
   "cell_type": "markdown",
   "metadata": {},
   "source": [
    "3. In New Hampshire, Bernie Sanders' polling results represent roughly a normal distribution with a mean of 18.97% and a standard deviation of 5.87%.\n",
    "\n",
    "Say that a new poll comes out tomorrow. Assuming that the new poll is part of this distribution, what is the probability that this new poll will show the percentage of people who want to vote for Bernie Sanders at 30% or more? (6 points)"
   ]
  },
  {
   "cell_type": "markdown",
   "metadata": {},
   "source": [
    "4. Say we want to see if any of the candidates have a statistically *different* mean polling result in Iowa from the others and want to do so by running an ANOVA test. In this case, what is the null hypothesis? What is the alternate hypothesis? (4 points)"
   ]
  },
  {
   "cell_type": "markdown",
   "metadata": {},
   "source": [
    "5. What is the resulting p-value from the ANVOA test? (4 points)"
   ]
  },
  {
   "cell_type": "markdown",
   "metadata": {},
   "source": [
    "6. Given the number of degrees of freedom required for this test, what is the F-score that consitutes the rejection cutoff for this test (meaning that we will reject our null hypothesis if our F-score is above this value)? (*Hint*: note the F-distribution used in an ANOVA test requires two separate inputs for degrees of freedom) (6 points)"
   ]
  },
  {
   "cell_type": "markdown",
   "metadata": {},
   "source": [
    "7. Find the polling results for Pete Buttigieg for Iowa and New Hampshire. What is the difference between his mean polling results in Iowa minus his mean polling results in New Hampshire? (4 points)"
   ]
  },
  {
   "cell_type": "markdown",
   "metadata": {},
   "source": [
    "8. Plot a boxplot showing the distributions of Buttigieg's polling results in Iowa and New Hampshire. Do either of the distributions have outliers? If so, which values are outliers? (4 points)"
   ]
  },
  {
   "cell_type": "markdown",
   "metadata": {},
   "source": [
    "9. Say we want to run a one-sided test to see the whether the difference between the mean of Pete Buttigieg's polling results in Iowa and the mean of his polling results in New Hampshire's numbers are statistically significant. Since we know he does better in Iowa then he does in New Hampshire on average, we'll do a one-sided test. What is the null and alternate hypothesis in this case? (4 points)"
   ]
  },
  {
   "cell_type": "markdown",
   "metadata": {},
   "source": [
    "10. Now run a bootstrap to find the difference between Buttigieg's mean Iowa polling results and his mean New Hampshire polling results. What is the p-value of our observed result? (5 points)"
   ]
  },
  {
   "cell_type": "markdown",
   "metadata": {},
   "source": [
    "11. At a significance level of 0.05, what is the rejection cutoff for our null hypothesis? Given the observed difference that you found, can you reject the null hypothesis? (5 points)"
   ]
  },
  {
   "cell_type": "markdown",
   "metadata": {},
   "source": [
    "12. Now use the 'evaluate linear relationship' function to find the linear relationship between 'days' and the polling results for all four candidates in Iowa (run the function for each of the candidates separately). For which of the candidates does the linear relationship between the number of days since January 1st and that candidate's polling results in Iowa have the highest R-squared value? (6 points)"
   ]
  },
  {
   "cell_type": "markdown",
   "metadata": {},
   "source": [
    "13. For the linear relationship between the number of days since January 1st and the polling results for a given candidate, what does the intercept represent? And what does the slope represent? (5 points)"
   ]
  },
  {
   "cell_type": "markdown",
   "metadata": {},
   "source": [
    "14. Given the linear models that you created for each candidate, which candidate has the highest polling results on January 1st, 2019?"
   ]
  },
  {
   "cell_type": "markdown",
   "metadata": {},
   "source": [
    "15. The Iowa Democratic caucus will be held on February 3, 2020, or 398 days since January 1, 2019. Given the linear models that you created for each candidate, which candidate is projected to have the highest polling results on that date? (7 points)"
   ]
  },
  {
   "cell_type": "markdown",
   "metadata": {},
   "source": [
    "BONUS: \n",
    "\n",
    "15) In New Hampshire, Bernie Sanders' polling results represent roughly a normal distribution with a mean of 18.97 and a standard deviation of 5.87.\n",
    "\n",
    "Say that there are ten new polls coming out tomorrow. My null hypothesis is that the *mean* polling results for Bernie Sanders between these ten polls will come from this distribution. My alternate hypothesis is that the *mean* polling results for Bernie Sanders between these ten polls will not come from this distribution.\n",
    "\n",
    "At the 0.05 signifiance level, what are the rejection cutoffs for which I can reject my null hypothesis? (5 points)"
   ]
  }
 ],
 "metadata": {
  "kernelspec": {
   "display_name": "Python 3",
   "language": "python",
   "name": "python3"
  },
  "language_info": {
   "codemirror_mode": {
    "name": "ipython",
    "version": 3
   },
   "file_extension": ".py",
   "mimetype": "text/x-python",
   "name": "python",
   "nbconvert_exporter": "python",
   "pygments_lexer": "ipython3",
   "version": "3.7.3"
  }
 },
 "nbformat": 4,
 "nbformat_minor": 2
}
